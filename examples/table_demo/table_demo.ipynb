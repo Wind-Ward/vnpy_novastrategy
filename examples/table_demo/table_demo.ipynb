{
 "cells": [
  {
   "cell_type": "code",
   "execution_count": 1,
   "metadata": {},
   "outputs": [],
   "source": [
    "from datetime import datetime\n",
    "from collections import defaultdict\n",
    "\n",
    "from vnpy_evo.trader.database import get_database, DB_TZ\n",
    "from vnpy_evo.trader.constant import Interval\n",
    "from vnpy_evo.trader.object import BarData\n",
    "from vnpy_evo.trader.utility import extract_vt_symbol\n",
    "\n",
    "db = get_database()"
   ]
  },
  {
   "cell_type": "code",
   "execution_count": 2,
   "metadata": {},
   "outputs": [],
   "source": [
    "# Load data\n",
    "vt_symbols = [\"BTCUSDT.BINANCE\", \"ETHUSDT.BINANCE\"]\n",
    "\n",
    "history: dict[datetime, dict[str, BarData]] = defaultdict(dict)\n",
    "\n",
    "for vt_symbol in vt_symbols:\n",
    "    symbol, exchange = extract_vt_symbol(vt_symbol)\n",
    "\n",
    "    bars: list[BarData] = db.load_bar_data(\n",
    "        symbol=symbol,\n",
    "        exchange=exchange,\n",
    "        interval=Interval.MINUTE,\n",
    "        start=datetime(2024, 8, 1, tzinfo=DB_TZ),\n",
    "        end=datetime(2024, 9, 10, tzinfo=DB_TZ)\n",
    "    )\n",
    "\n",
    "    for bar in bars:\n",
    "        history[bar.datetime][vt_symbol] = bar\n",
    "            "
   ]
  },
  {
   "cell_type": "code",
   "execution_count": 3,
   "metadata": {},
   "outputs": [],
   "source": [
    "# Create table\n",
    "from vnpy_novastrategy import DataTable\n",
    "\n",
    "table = DataTable(\n",
    "    vt_symbols=vt_symbols,\n",
    "    size=200,\n",
    "    interval=Interval.MINUTE,\n",
    "    extra_fields=[\"active_volume\", \"active_turnover\", \"trade_count\"]\n",
    ")\n"
   ]
  },
  {
   "cell_type": "code",
   "execution_count": 4,
   "metadata": {},
   "outputs": [],
   "source": [
    "# Add simple feature\n",
    "table.add_feature(\"range\", \"high_price - low_price\")"
   ]
  },
  {
   "cell_type": "code",
   "execution_count": 5,
   "metadata": {},
   "outputs": [],
   "source": [
    "# Add feature with parameters\n",
    "for fast_window, slow_window in [\n",
    "    (5, 25),\n",
    "    (10, 50),\n",
    "    (20, 100)\n",
    "]:\n",
    "    table.add_feature(\n",
    "        name=f\"ma_gap_{fast_window}_{slow_window}\",\n",
    "        expression=f\"(ts_mean(close_price, {fast_window}) / ts_mean(close_price, {slow_window}) - 1) * 100\"\n",
    "    )"
   ]
  },
  {
   "cell_type": "code",
   "execution_count": null,
   "metadata": {},
   "outputs": [],
   "source": [
    "# Add feature with complex expression\n",
    "mfi_period = 15\n",
    "neutral_period = 20\n",
    "\n",
    "_mfi = f\"ta_mfi(high_price, low_price, close_price, volume, {mfi_period})\"\n",
    "_mfi_mean = f\"ts_mean({_mfi}, {neutral_period})\"\n",
    "_mfi_std = f\"ts_std({_mfi}, {neutral_period})\"\n",
    "_mfi_zscore = f\"({_mfi} - {_mfi_mean}) / {_mfi_std}\"\n",
    "expression = f\"rank({_mfi_zscore})\"\n",
    "print(expression)\n",
    "\n",
    "table.add_feature(\"ranked_mfi\", expression)"
   ]
  },
  {
   "cell_type": "code",
   "execution_count": null,
   "metadata": {},
   "outputs": [],
   "source": [
    "# Add feature with complex expressions\n",
    "mfi_period = 15\n",
    "neutral_period = 20\n",
    "\n",
    "_mfi = f\"ta_mfi(high_price, low_price, close_price, volume, {mfi_period})\"\n",
    "_mfi_mean = f\"ts_mean({_mfi}, {neutral_period})\"\n",
    "_mfi_std = f\"ts_std({_mfi}, {neutral_period})\"\n",
    "_mfi_zscore = f\"({_mfi} - {_mfi_mean}) / {_mfi_std}\"\n",
    "expression = f\"rank({_mfi_zscore})\"\n",
    "print(expression)\n",
    "\n",
    "table.add_feature(\"ranked_mfi\", expression)"
   ]
  },
  {
   "cell_type": "code",
   "execution_count": 8,
   "metadata": {},
   "outputs": [],
   "source": [
    "# Add feature with intermediate variables\n",
    "short_window = 5\n",
    "long_window = 20\n",
    "signal_window = 50\n",
    "\n",
    "table.add_feature(\"short_ma\", f\"ts_mean(close_price, {short_window})\")\n",
    "table.add_feature(\"long_ma\", f\"ts_mean(close_price, {long_window})\")\n",
    "table.add_feature(\"buy_signal_mask\", f\"ts_greater_than(short_ma, long_ma) * ts_greater_than(close_price, short_ma)\")\n",
    "table.add_feature(\"buy_proportion\", f\"ts_sum(buy_signal_mask, {signal_window}) / {signal_window}\")\n",
    "table.add_feature(\"buy_signal_proportion_rank\", \"rank(buy_proportion)\")"
   ]
  },
  {
   "cell_type": "code",
   "execution_count": 9,
   "metadata": {},
   "outputs": [],
   "source": [
    "# Add feature with parameters\n",
    "for rsi_window in [15, 20, 25]:\n",
    "    for rsi_threshold in range(10, 80, 10):\n",
    "        name = f\"rsi_above_threshold_{rsi_window}_{rsi_threshold}\"\n",
    "\n",
    "        _rsi = f\"ta_rsi(close_price, {rsi_window})\"\n",
    "        _rsi_above_threshold = f\"ts_greater_than({_rsi}, {rsi_threshold})\"\n",
    "        expression = f\"cs_sum({_rsi_above_threshold}) / cs_count(close_price)\"\n",
    "\n",
    "        table.add_feature(name, expression)\n"
   ]
  },
  {
   "cell_type": "code",
   "execution_count": 10,
   "metadata": {},
   "outputs": [],
   "source": [
    "# Update bars into table    \n",
    "for dt, bars in history.items():\n",
    "    table.update_bars(bars)"
   ]
  },
  {
   "cell_type": "code",
   "execution_count": null,
   "metadata": {},
   "outputs": [],
   "source": [
    "# Get latest dataframe\n",
    "df = table.get_df()\n",
    "df.tail(20)"
   ]
  },
  {
   "cell_type": "code",
   "execution_count": null,
   "metadata": {},
   "outputs": [],
   "source": [
    "table.update_history(list(history.values()))"
   ]
  },
  {
   "cell_type": "code",
   "execution_count": null,
   "metadata": {},
   "outputs": [],
   "source": []
  }
 ],
 "metadata": {
  "kernelspec": {
   "display_name": "Python 3",
   "language": "python",
   "name": "python3"
  },
  "language_info": {
   "codemirror_mode": {
    "name": "ipython",
    "version": 3
   },
   "file_extension": ".py",
   "mimetype": "text/x-python",
   "name": "python",
   "nbconvert_exporter": "python",
   "pygments_lexer": "ipython3",
   "version": "3.10.9"
  }
 },
 "nbformat": 4,
 "nbformat_minor": 2
}
