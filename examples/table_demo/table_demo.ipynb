{
 "cells": [
  {
   "cell_type": "code",
   "execution_count": 1,
   "metadata": {},
   "outputs": [],
   "source": [
    "from datetime import datetime\n",
    "from collections import defaultdict\n",
    "\n",
    "from vnpy_evo.trader.database import get_database, DB_TZ\n",
    "from vnpy_evo.trader.constant import Interval\n",
    "from vnpy_evo.trader.object import BarData\n",
    "from vnpy_evo.trader.utility import extract_vt_symbol\n",
    "\n",
    "db = get_database()"
   ]
  },
  {
   "cell_type": "code",
   "execution_count": 2,
   "metadata": {},
   "outputs": [],
   "source": [
    "# Load data\n",
    "vt_symbols = [\"BTCUSDT.BINANCE\", \"ETHUSDT.BINANCE\"]\n",
    "vt_symbols = [\"BTCUSDT.BINANCE\"] #, \"ETHUSDT.BINANCE\"]\n",
    "\n",
    "history: dict[datetime, dict[str, BarData]] = defaultdict(dict)\n",
    "\n",
    "for vt_symbol in vt_symbols:\n",
    "    symbol, exchange = extract_vt_symbol(vt_symbol)\n",
    "\n",
    "    bars: list[BarData] = db.load_bar_data(\n",
    "        symbol=symbol,\n",
    "        exchange=exchange,\n",
    "        interval=Interval.MINUTE,\n",
    "        start=datetime(2024, 8, 1, tzinfo=DB_TZ),\n",
    "        end=datetime(2024, 9, 10, tzinfo=DB_TZ)\n",
    "    )\n",
    "\n",
    "    for bar in bars:\n",
    "        history[bar.datetime][vt_symbol] = bar\n",
    "            "
   ]
  },
  {
   "cell_type": "code",
   "execution_count": 3,
   "metadata": {},
   "outputs": [],
   "source": [
    "# Create table\n",
    "from vnpy_novastrategy import DataTable\n",
    "\n",
    "table = DataTable(\n",
    "    vt_symbols=vt_symbols,\n",
    "    size=5,\n",
    "    interval=Interval.MINUTE,\n",
    "    extra_fields=[\"active_volume\", \"active_turnover\", \"trade_count\"]\n",
    ")\n",
    "\n",
    "table.add_feature(\"range\", \"high_price - low_price\")\n"
   ]
  },
  {
   "cell_type": "code",
   "execution_count": 4,
   "metadata": {},
   "outputs": [],
   "source": [
    "# Update bars into table    \n",
    "for dt, bars in history.items():\n",
    "    table.update_bars(bars)"
   ]
  },
  {
   "cell_type": "code",
   "execution_count": null,
   "metadata": {},
   "outputs": [],
   "source": [
    "# Get latest dataframe\n",
    "df = table.get_df()\n",
    "df"
   ]
  },
  {
   "cell_type": "code",
   "execution_count": null,
   "metadata": {},
   "outputs": [],
   "source": []
  }
 ],
 "metadata": {
  "kernelspec": {
   "display_name": "Python 3",
   "language": "python",
   "name": "python3"
  },
  "language_info": {
   "codemirror_mode": {
    "name": "ipython",
    "version": 3
   },
   "file_extension": ".py",
   "mimetype": "text/x-python",
   "name": "python",
   "nbconvert_exporter": "python",
   "pygments_lexer": "ipython3",
   "version": "3.10.9"
  }
 },
 "nbformat": 4,
 "nbformat_minor": 2
}
